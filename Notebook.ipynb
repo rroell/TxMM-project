{
 "cells": [
  {
   "cell_type": "markdown",
   "metadata": {},
   "source": [
    "New TxMM notebook"
   ]
  },
  {
   "cell_type": "code",
   "execution_count": 2,
   "metadata": {},
   "outputs": [
    {
     "name": "stdout",
     "output_type": "stream",
     "text": [
      "Requirement already satisfied: transformers in c:\\users\\roell\\appdata\\local\\programs\\python\\python38\\lib\\site-packages (4.25.1)\n",
      "Requirement already satisfied: datasets in c:\\users\\roell\\appdata\\local\\programs\\python\\python38\\lib\\site-packages (2.8.0)\n",
      "Collecting accelerate\n",
      "  Downloading accelerate-0.15.0-py3-none-any.whl (191 kB)\n",
      "     ------------------------------------- 191.5/191.5 kB 12.1 MB/s eta 0:00:00\n",
      "Collecting nvidia-ml-py3\n",
      "  Downloading nvidia-ml-py3-7.352.0.tar.gz (19 kB)\n",
      "  Preparing metadata (setup.py): started\n",
      "  Preparing metadata (setup.py): finished with status 'done'\n",
      "Requirement already satisfied: numpy>=1.17 in c:\\users\\roell\\appdata\\local\\programs\\python\\python38\\lib\\site-packages (from transformers) (1.22.1)\n",
      "Requirement already satisfied: regex!=2019.12.17 in c:\\users\\roell\\appdata\\local\\programs\\python\\python38\\lib\\site-packages (from transformers) (2022.10.31)\n",
      "Requirement already satisfied: pyyaml>=5.1 in c:\\users\\roell\\appdata\\local\\programs\\python\\python38\\lib\\site-packages (from transformers) (6.0)\n",
      "Requirement already satisfied: packaging>=20.0 in c:\\users\\roell\\appdata\\local\\programs\\python\\python38\\lib\\site-packages (from transformers) (21.3)\n",
      "Requirement already satisfied: huggingface-hub<1.0,>=0.10.0 in c:\\users\\roell\\appdata\\local\\programs\\python\\python38\\lib\\site-packages (from transformers) (0.11.1)\n",
      "Requirement already satisfied: requests in c:\\users\\roell\\appdata\\local\\programs\\python\\python38\\lib\\site-packages (from transformers) (2.27.1)\n",
      "Requirement already satisfied: tokenizers!=0.11.3,<0.14,>=0.11.1 in c:\\users\\roell\\appdata\\local\\programs\\python\\python38\\lib\\site-packages (from transformers) (0.13.2)\n",
      "Requirement already satisfied: filelock in c:\\users\\roell\\appdata\\local\\programs\\python\\python38\\lib\\site-packages (from transformers) (3.8.2)\n",
      "Requirement already satisfied: tqdm>=4.27 in c:\\users\\roell\\appdata\\local\\programs\\python\\python38\\lib\\site-packages (from transformers) (4.64.1)\n",
      "Requirement already satisfied: pandas in c:\\users\\roell\\appdata\\local\\programs\\python\\python38\\lib\\site-packages (from datasets) (1.5.2)\n",
      "Requirement already satisfied: multiprocess in c:\\users\\roell\\appdata\\local\\programs\\python\\python38\\lib\\site-packages (from datasets) (0.70.14)\n",
      "Requirement already satisfied: fsspec[http]>=2021.11.1 in c:\\users\\roell\\appdata\\local\\programs\\python\\python38\\lib\\site-packages (from datasets) (2022.11.0)\n",
      "Requirement already satisfied: aiohttp in c:\\users\\roell\\appdata\\local\\programs\\python\\python38\\lib\\site-packages (from datasets) (3.8.3)\n",
      "Requirement already satisfied: responses<0.19 in c:\\users\\roell\\appdata\\local\\programs\\python\\python38\\lib\\site-packages (from datasets) (0.18.0)\n",
      "Requirement already satisfied: pyarrow>=6.0.0 in c:\\users\\roell\\appdata\\local\\programs\\python\\python38\\lib\\site-packages (from datasets) (10.0.1)\n",
      "Requirement already satisfied: xxhash in c:\\users\\roell\\appdata\\local\\programs\\python\\python38\\lib\\site-packages (from datasets) (3.1.0)\n",
      "Requirement already satisfied: dill<0.3.7 in c:\\users\\roell\\appdata\\local\\programs\\python\\python38\\lib\\site-packages (from datasets) (0.3.6)\n",
      "Requirement already satisfied: torch>=1.4.0 in c:\\users\\roell\\appdata\\local\\programs\\python\\python38\\lib\\site-packages (from accelerate) (2.0.0.dev20221221+cu116)\n",
      "Requirement already satisfied: psutil in c:\\users\\roell\\appdata\\roaming\\python\\python38\\site-packages (from accelerate) (5.9.4)\n",
      "Requirement already satisfied: attrs>=17.3.0 in c:\\users\\roell\\appdata\\local\\programs\\python\\python38\\lib\\site-packages (from aiohttp->datasets) (22.1.0)\n",
      "Requirement already satisfied: multidict<7.0,>=4.5 in c:\\users\\roell\\appdata\\local\\programs\\python\\python38\\lib\\site-packages (from aiohttp->datasets) (6.0.3)\n",
      "Requirement already satisfied: async-timeout<5.0,>=4.0.0a3 in c:\\users\\roell\\appdata\\local\\programs\\python\\python38\\lib\\site-packages (from aiohttp->datasets) (4.0.2)\n",
      "Requirement already satisfied: aiosignal>=1.1.2 in c:\\users\\roell\\appdata\\local\\programs\\python\\python38\\lib\\site-packages (from aiohttp->datasets) (1.3.1)\n",
      "Requirement already satisfied: frozenlist>=1.1.1 in c:\\users\\roell\\appdata\\local\\programs\\python\\python38\\lib\\site-packages (from aiohttp->datasets) (1.3.3)\n",
      "Requirement already satisfied: charset-normalizer<3.0,>=2.0 in c:\\users\\roell\\appdata\\local\\programs\\python\\python38\\lib\\site-packages (from aiohttp->datasets) (2.0.12)\n",
      "Requirement already satisfied: yarl<2.0,>=1.0 in c:\\users\\roell\\appdata\\local\\programs\\python\\python38\\lib\\site-packages (from aiohttp->datasets) (1.8.2)\n",
      "Requirement already satisfied: typing-extensions>=3.7.4.3 in c:\\users\\roell\\appdata\\local\\programs\\python\\python38\\lib\\site-packages (from huggingface-hub<1.0,>=0.10.0->transformers) (4.1.1)\n",
      "Requirement already satisfied: pyparsing!=3.0.5,>=2.0.2 in c:\\users\\roell\\appdata\\local\\programs\\python\\python38\\lib\\site-packages (from packaging>=20.0->transformers) (3.0.7)\n",
      "Requirement already satisfied: idna<4,>=2.5 in c:\\users\\roell\\appdata\\local\\programs\\python\\python38\\lib\\site-packages (from requests->transformers) (3.3)\n",
      "Requirement already satisfied: urllib3<1.27,>=1.21.1 in c:\\users\\roell\\appdata\\local\\programs\\python\\python38\\lib\\site-packages (from requests->transformers) (1.26.9)\n",
      "Requirement already satisfied: certifi>=2017.4.17 in c:\\users\\roell\\appdata\\local\\programs\\python\\python38\\lib\\site-packages (from requests->transformers) (2021.10.8)\n",
      "Requirement already satisfied: sympy in c:\\users\\roell\\appdata\\local\\programs\\python\\python38\\lib\\site-packages (from torch>=1.4.0->accelerate) (1.11.1)\n",
      "Requirement already satisfied: networkx in c:\\users\\roell\\appdata\\local\\programs\\python\\python38\\lib\\site-packages (from torch>=1.4.0->accelerate) (3.0rc1)\n",
      "Requirement already satisfied: colorama in c:\\users\\roell\\appdata\\local\\programs\\python\\python38\\lib\\site-packages (from tqdm>=4.27->transformers) (0.4.6)\n",
      "Requirement already satisfied: python-dateutil>=2.8.1 in c:\\users\\roell\\appdata\\local\\programs\\python\\python38\\lib\\site-packages (from pandas->datasets) (2.8.2)\n",
      "Requirement already satisfied: pytz>=2020.1 in c:\\users\\roell\\appdata\\local\\programs\\python\\python38\\lib\\site-packages (from pandas->datasets) (2022.7)\n",
      "Requirement already satisfied: six>=1.5 in c:\\users\\roell\\appdata\\local\\programs\\python\\python38\\lib\\site-packages (from python-dateutil>=2.8.1->pandas->datasets) (1.16.0)\n",
      "Requirement already satisfied: mpmath>=0.19 in c:\\users\\roell\\appdata\\local\\programs\\python\\python38\\lib\\site-packages (from sympy->torch>=1.4.0->accelerate) (1.2.1)\n",
      "Building wheels for collected packages: nvidia-ml-py3\n",
      "  Building wheel for nvidia-ml-py3 (setup.py): started\n",
      "  Building wheel for nvidia-ml-py3 (setup.py): finished with status 'done'\n",
      "  Created wheel for nvidia-ml-py3: filename=nvidia_ml_py3-7.352.0-py3-none-any.whl size=19181 sha256=2fc70dc1861eda2684f8c1385ee3c67cbc17441167f9bbe8e42ba456414c8657\n",
      "  Stored in directory: C:\\Users\\roell\\AppData\\Local\\Temp\\pip-ephem-wheel-cache-j7qc82ak\\wheels\\19\\3d\\20\\9bf7f9bd95806ed38fdc85430b24f3fe52a68556f94104d6b6\n",
      "Successfully built nvidia-ml-py3\n",
      "Installing collected packages: nvidia-ml-py3, accelerate\n",
      "Successfully installed accelerate-0.15.0 nvidia-ml-py3-7.352.0\n"
     ]
    }
   ],
   "source": [
    "! pip install transformers datasets accelerate nvidia-ml-py3\n",
    "# ! pip install torch --pre --extra-index-url https://download.pytorch.org/whl/nightly/cu116\n"
   ]
  },
  {
   "cell_type": "code",
   "execution_count": 3,
   "metadata": {},
   "outputs": [],
   "source": [
    "from pynvml import *\n",
    "\n",
    "\n",
    "def print_gpu_utilization():\n",
    "    nvmlInit()\n",
    "    handle = nvmlDeviceGetHandleByIndex(0)\n",
    "    info = nvmlDeviceGetMemoryInfo(handle)\n",
    "    print(f\"GPU memory occupied: {info.used//1024**2} MB.\")\n",
    "\n",
    "\n",
    "def print_summary(result):\n",
    "    print(f\"Time: {result.metrics['train_runtime']:.2f}\")\n",
    "    print(f\"Samples/second: {result.metrics['train_samples_per_second']:.2f}\")\n",
    "    print_gpu_utilization()"
   ]
  },
  {
   "cell_type": "code",
   "execution_count": 9,
   "metadata": {},
   "outputs": [
    {
     "data": {
      "text/plain": [
       "tensor([[1.]], device='cuda:0')"
      ]
     },
     "execution_count": 9,
     "metadata": {},
     "output_type": "execute_result"
    }
   ],
   "source": [
    "import torch\n",
    "\n",
    "# CUDA 11.6 needed!\n",
    "torch.cuda.is_available()\n",
    "\n",
    "torch.ones((1, 1)).to(\"cuda\")\n"
   ]
  },
  {
   "cell_type": "code",
   "execution_count": 11,
   "metadata": {},
   "outputs": [
    {
     "name": "stdout",
     "output_type": "stream",
     "text": [
      "GPU memory occupied: 647 MB.\n"
     ]
    }
   ],
   "source": [
    "print_gpu_utilization()"
   ]
  }
 ],
 "metadata": {
  "kernelspec": {
   "display_name": "Python 3",
   "language": "python",
   "name": "python3"
  },
  "language_info": {
   "codemirror_mode": {
    "name": "ipython",
    "version": 3
   },
   "file_extension": ".py",
   "mimetype": "text/x-python",
   "name": "python",
   "nbconvert_exporter": "python",
   "pygments_lexer": "ipython3",
   "version": "3.8.10"
  },
  "orig_nbformat": 4,
  "vscode": {
   "interpreter": {
    "hash": "c5b5ee5c7d2c9fc3ffe929321c07a700290002734575a32b0fbeec65003f869d"
   }
  }
 },
 "nbformat": 4,
 "nbformat_minor": 2
}
