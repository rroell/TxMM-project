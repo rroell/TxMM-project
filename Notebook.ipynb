{
 "cells": [
  {
   "cell_type": "markdown",
   "metadata": {},
   "source": [
    "# Welcome to my TxMM project \n",
    "By: Roel Duijsings \n",
    "\n",
    "This project is about the emotions of the general public during the missing of Hebe and Sanne in October 2022 in the Netherlands."
   ]
  },
  {
   "cell_type": "markdown",
   "metadata": {},
   "source": [
    "## Install dependencies"
   ]
  },
  {
   "cell_type": "code",
   "execution_count": 1,
   "metadata": {},
   "outputs": [],
   "source": [
    "# ! pip install transformers datasets accelerate nvidia-ml-py3 evaluate\n",
    "# ! pip install torch --pre --extra-index-url https://download.pytorch.org/whl/nightly/cu116\n",
    "# ! pip install numpy pandas\n",
    "# ! pip install snscrape"
   ]
  },
  {
   "cell_type": "code",
   "execution_count": 2,
   "metadata": {},
   "outputs": [],
   "source": [
    "from pynvml import *\n",
    "\n",
    "\n",
    "def print_gpu_utilization():\n",
    "    nvmlInit()\n",
    "    handle = nvmlDeviceGetHandleByIndex(0)\n",
    "    info = nvmlDeviceGetMemoryInfo(handle)\n",
    "    print(f\"GPU memory occupied: {info.used//1024**2} MB.\")\n",
    "\n",
    "\n",
    "def print_summary(result):\n",
    "    print(f\"Time: {result.metrics['train_runtime']:.2f}\")\n",
    "    print(f\"Samples/second: {result.metrics['train_samples_per_second']:.2f}\")\n",
    "    print_gpu_utilization()"
   ]
  },
  {
   "cell_type": "code",
   "execution_count": 3,
   "metadata": {},
   "outputs": [
    {
     "name": "stderr",
     "output_type": "stream",
     "text": [
      "c:\\Users\\roell\\AppData\\Local\\Programs\\Python\\Python38\\lib\\site-packages\\tqdm\\auto.py:22: TqdmWarning: IProgress not found. Please update jupyter and ipywidgets. See https://ipywidgets.readthedocs.io/en/stable/user_install.html\n",
      "  from .autonotebook import tqdm as notebook_tqdm\n"
     ]
    },
    {
     "data": {
      "text/plain": [
       "True"
      ]
     },
     "execution_count": 3,
     "metadata": {},
     "output_type": "execute_result"
    }
   ],
   "source": [
    "import torch\n",
    "\n",
    "# CUDA 11.6 needed!\n",
    "torch.cuda.is_available()"
   ]
  },
  {
   "cell_type": "code",
   "execution_count": 4,
   "metadata": {},
   "outputs": [
    {
     "name": "stdout",
     "output_type": "stream",
     "text": [
      "GPU memory occupied: 135 MB.\n"
     ]
    }
   ],
   "source": [
    "print_gpu_utilization()"
   ]
  },
  {
   "attachments": {},
   "cell_type": "markdown",
   "metadata": {},
   "source": [
    "## Finetune the model on the training data"
   ]
  },
  {
   "attachments": {},
   "cell_type": "markdown",
   "metadata": {},
   "source": [
    "Define the model and tokenizer"
   ]
  },
  {
   "cell_type": "code",
   "execution_count": 5,
   "metadata": {},
   "outputs": [
    {
     "name": "stderr",
     "output_type": "stream",
     "text": [
      "Some weights of the model checkpoint at pdelobelle/robbert-v2-dutch-base were not used when initializing RobertaForSequenceClassification: ['lm_head.dense.weight', 'lm_head.layer_norm.bias', 'lm_head.decoder.bias', 'lm_head.dense.bias', 'lm_head.decoder.weight', 'lm_head.bias', 'lm_head.layer_norm.weight']\n",
      "- This IS expected if you are initializing RobertaForSequenceClassification from the checkpoint of a model trained on another task or with another architecture (e.g. initializing a BertForSequenceClassification model from a BertForPreTraining model).\n",
      "- This IS NOT expected if you are initializing RobertaForSequenceClassification from the checkpoint of a model that you expect to be exactly identical (initializing a BertForSequenceClassification model from a BertForSequenceClassification model).\n",
      "Some weights of RobertaForSequenceClassification were not initialized from the model checkpoint at pdelobelle/robbert-v2-dutch-base and are newly initialized: ['classifier.out_proj.weight', 'classifier.out_proj.bias', 'classifier.dense.bias', 'classifier.dense.weight']\n",
      "You should probably TRAIN this model on a down-stream task to be able to use it for predictions and inference.\n"
     ]
    }
   ],
   "source": [
    "from transformers import AutoTokenizer, AutoModelForSequenceClassification\n",
    "\n",
    "checkpoint = \"pdelobelle/robbert-v2-dutch-base\"\n",
    "tokenizer = AutoTokenizer.from_pretrained(checkpoint, use_fast = True)\n",
    "model = AutoModelForSequenceClassification.from_pretrained(checkpoint, num_labels=6).to(\"cuda\")\n"
   ]
  },
  {
   "attachments": {},
   "cell_type": "markdown",
   "metadata": {},
   "source": [
    "Load the training data"
   ]
  },
  {
   "cell_type": "code",
   "execution_count": 6,
   "metadata": {},
   "outputs": [
    {
     "name": "stderr",
     "output_type": "stream",
     "text": [
      "Using custom data configuration default-4fa77517b795a050\n",
      "Found cached dataset csv (C:/Users/roell/.cache/huggingface/datasets/csv/default-4fa77517b795a050/0.0.0/6b34fb8fcf56f7c8ba51dc895bfa2bfbe43546f190a60fcf74bb5e8afdcc2317)\n",
      "Loading cached processed dataset at C:\\Users\\roell\\.cache\\huggingface\\datasets\\csv\\default-4fa77517b795a050\\0.0.0\\6b34fb8fcf56f7c8ba51dc895bfa2bfbe43546f190a60fcf74bb5e8afdcc2317\\cache-0a53e4d2d7ea2e47.arrow\n",
      "Loading cached shuffled indices for dataset at C:\\Users\\roell\\.cache\\huggingface\\datasets\\csv\\default-4fa77517b795a050\\0.0.0\\6b34fb8fcf56f7c8ba51dc895bfa2bfbe43546f190a60fcf74bb5e8afdcc2317\\cache-0a8c56b9a7e358c9.arrow\n",
      "Loading cached shuffled indices for dataset at C:\\Users\\roell\\.cache\\huggingface\\datasets\\csv\\default-4fa77517b795a050\\0.0.0\\6b34fb8fcf56f7c8ba51dc895bfa2bfbe43546f190a60fcf74bb5e8afdcc2317\\cache-7656037191ef0295.arrow\n"
     ]
    }
   ],
   "source": [
    "from datasets.load import load_dataset\n",
    "from sklearn.model_selection import train_test_split\n",
    "\n",
    "def tokenize_function(tweet):\n",
    "    return tokenizer(tweet[\"text\"], padding=\"max_length\", truncation=True)\n",
    "\n",
    "\n",
    "data_file = \"training_data_749.csv\"\n",
    "dataset = load_dataset(\"csv\", data_files=data_file, split=\"train\")\n",
    "dataset_tokenized = dataset.map(tokenize_function, batched=True)\n",
    "\n",
    "# train_dataset, eval_dataset  = train_test_split(dataset_tokenized[\"train\"], test_size=0.05)\n",
    "# print(dataset_tokenized[\"train\"][:5])\n",
    "train_dataset = dataset_tokenized.shuffle(seed=42).select(range(700))\n",
    "# print(train_dataset[:5])\n",
    "eval_dataset = dataset_tokenized.shuffle(seed=6).select(range(50))\n",
    "# for i in train_dataset[\"idx\"]:\n",
    "#     print(i)\n",
    "#     if i in eval_dataset[\"idx\"]:\n",
    "#         print(i, eval_dataset[\"idx\"==i][\"text\"],train_dataset[\"idx\"==i][\"text\"])\n",
    "#         break"
   ]
  },
  {
   "cell_type": "code",
   "execution_count": 7,
   "metadata": {},
   "outputs": [],
   "source": [
    "import numpy as np\n",
    "import evaluate\n",
    "\n",
    "\n",
    "metric = evaluate.load(\"accuracy\")\n",
    "def compute_metrics(eval_pred):\n",
    "    logits, labels = eval_pred\n",
    "    predictions = np.argmax(logits, axis=-1)\n",
    "    return metric.compute(predictions=predictions, references=labels)"
   ]
  },
  {
   "cell_type": "code",
   "execution_count": 8,
   "metadata": {},
   "outputs": [],
   "source": [
    "from transformers import TrainingArguments, Trainer\n",
    "\n",
    "batch_size = 4\n",
    "\n",
    "training_args = TrainingArguments(\n",
    "    output_dir=\"test_trainer\", \n",
    "    evaluation_strategy=\"epoch\",\n",
    "    per_device_train_batch_size=batch_size,\n",
    "    per_device_eval_batch_size=batch_size,\n",
    "    )\n",
    "    \n",
    "trainer = Trainer(\n",
    "    model=model,\n",
    "    args=training_args,\n",
    "    train_dataset=train_dataset,\n",
    "    tokenizer=tokenizer,\n",
    "    eval_dataset=eval_dataset,\n",
    "    compute_metrics=compute_metrics,\n",
    ")"
   ]
  },
  {
   "attachments": {},
   "cell_type": "markdown",
   "metadata": {},
   "source": [
    "Train the model\n"
   ]
  },
  {
   "cell_type": "code",
   "execution_count": 9,
   "metadata": {},
   "outputs": [
    {
     "name": "stderr",
     "output_type": "stream",
     "text": [
      "The following columns in the training set don't have a corresponding argument in `RobertaForSequenceClassification.forward` and have been ignored: idx, text. If idx, text are not expected by `RobertaForSequenceClassification.forward`,  you can safely ignore this message.\n",
      "c:\\Users\\roell\\AppData\\Local\\Programs\\Python\\Python38\\lib\\site-packages\\transformers\\optimization.py:306: FutureWarning: This implementation of AdamW is deprecated and will be removed in a future version. Use the PyTorch implementation torch.optim.AdamW instead, or set `no_deprecation_warning=True` to disable this warning\n",
      "  warnings.warn(\n",
      "***** Running training *****\n",
      "  Num examples = 700\n",
      "  Num Epochs = 3\n",
      "  Instantaneous batch size per device = 4\n",
      "  Total train batch size (w. parallel, distributed & accumulation) = 4\n",
      "  Gradient Accumulation steps = 1\n",
      "  Total optimization steps = 525\n",
      "  Number of trainable parameters = 116766726\n",
      "  0%|          | 0/525 [00:00<?, ?it/s]You're using a RobertaTokenizerFast tokenizer. Please note that with a fast tokenizer, using the `__call__` method is faster than using a method to encode the text followed by a call to the `pad` method to get a padded encoding.\n",
      " 33%|███▎      | 175/525 [00:58<01:55,  3.03it/s]The following columns in the evaluation set don't have a corresponding argument in `RobertaForSequenceClassification.forward` and have been ignored: idx, text. If idx, text are not expected by `RobertaForSequenceClassification.forward`,  you can safely ignore this message.\n",
      "***** Running Evaluation *****\n",
      "  Num examples = 50\n",
      "  Batch size = 4\n",
      "                                                 \n",
      " 33%|███▎      | 175/525 [00:59<01:55,  3.03it/s]"
     ]
    },
    {
     "name": "stdout",
     "output_type": "stream",
     "text": [
      "{'eval_loss': 1.3874191045761108, 'eval_accuracy': 0.46, 'eval_runtime': 1.2869, 'eval_samples_per_second': 38.852, 'eval_steps_per_second': 10.102, 'epoch': 1.0}\n"
     ]
    },
    {
     "name": "stderr",
     "output_type": "stream",
     "text": [
      " 67%|██████▋   | 350/525 [01:58<00:58,  3.01it/s]The following columns in the evaluation set don't have a corresponding argument in `RobertaForSequenceClassification.forward` and have been ignored: idx, text. If idx, text are not expected by `RobertaForSequenceClassification.forward`,  you can safely ignore this message.\n",
      "***** Running Evaluation *****\n",
      "  Num examples = 50\n",
      "  Batch size = 4\n",
      "                                                 \n",
      " 67%|██████▋   | 350/525 [01:59<00:58,  3.01it/s]"
     ]
    },
    {
     "name": "stdout",
     "output_type": "stream",
     "text": [
      "{'eval_loss': 0.9510800242424011, 'eval_accuracy': 0.64, 'eval_runtime': 1.2371, 'eval_samples_per_second': 40.417, 'eval_steps_per_second': 10.508, 'epoch': 2.0}\n"
     ]
    },
    {
     "name": "stderr",
     "output_type": "stream",
     "text": [
      " 95%|█████████▌| 500/525 [02:49<00:08,  2.95it/s]Saving model checkpoint to test_trainer\\checkpoint-500\n",
      "Configuration saved in test_trainer\\checkpoint-500\\config.json\n"
     ]
    },
    {
     "name": "stdout",
     "output_type": "stream",
     "text": [
      "{'loss': 1.1485, 'learning_rate': 2.3809523809523808e-06, 'epoch': 2.86}\n"
     ]
    },
    {
     "name": "stderr",
     "output_type": "stream",
     "text": [
      "Model weights saved in test_trainer\\checkpoint-500\\pytorch_model.bin\n",
      "tokenizer config file saved in test_trainer\\checkpoint-500\\tokenizer_config.json\n",
      "Special tokens file saved in test_trainer\\checkpoint-500\\special_tokens_map.json\n",
      "100%|██████████| 525/525 [02:59<00:00,  2.98it/s]The following columns in the evaluation set don't have a corresponding argument in `RobertaForSequenceClassification.forward` and have been ignored: idx, text. If idx, text are not expected by `RobertaForSequenceClassification.forward`,  you can safely ignore this message.\n",
      "***** Running Evaluation *****\n",
      "  Num examples = 50\n",
      "  Batch size = 4\n",
      "                                                 \n",
      "100%|██████████| 525/525 [03:00<00:00,  2.98it/s]\n",
      "\n",
      "Training completed. Do not forget to share your model on huggingface.co/models =)\n",
      "\n",
      "\n",
      "100%|██████████| 525/525 [03:00<00:00,  2.90it/s]"
     ]
    },
    {
     "name": "stdout",
     "output_type": "stream",
     "text": [
      "{'eval_loss': 0.6707025170326233, 'eval_accuracy': 0.78, 'eval_runtime': 1.2459, 'eval_samples_per_second': 40.13, 'eval_steps_per_second': 10.434, 'epoch': 3.0}\n",
      "{'train_runtime': 180.9943, 'train_samples_per_second': 11.603, 'train_steps_per_second': 2.901, 'train_loss': 1.1281304931640626, 'epoch': 3.0}\n"
     ]
    },
    {
     "name": "stderr",
     "output_type": "stream",
     "text": [
      "\n"
     ]
    }
   ],
   "source": [
    "result =trainer.train()"
   ]
  },
  {
   "cell_type": "code",
   "execution_count": 10,
   "metadata": {},
   "outputs": [
    {
     "name": "stdout",
     "output_type": "stream",
     "text": [
      "Time: 180.99\n",
      "Samples/second: 11.60\n",
      "GPU memory occupied: 5501 MB.\n"
     ]
    }
   ],
   "source": [
    "print_summary(result)"
   ]
  },
  {
   "attachments": {},
   "cell_type": "markdown",
   "metadata": {},
   "source": [
    "## Load the testdata"
   ]
  },
  {
   "attachments": {},
   "cell_type": "markdown",
   "metadata": {},
   "source": [
    "Preprocess testdata"
   ]
  },
  {
   "cell_type": "code",
   "execution_count": 11,
   "metadata": {},
   "outputs": [],
   "source": [
    "import snscrape.modules.twitter as sntwitter\n",
    "import pandas as pd\n",
    "\n",
    "\n",
    "def preprocess(query, maxTweets):\n",
    "    \"\"\"\n",
    "    Preprocess the tweets:\n",
    "    - collects them from Twitter API,\n",
    "    - replaces username and URL by placeholders,\n",
    "\n",
    "    Returns a DataFrame[\"Date\", \"Username\", \"Raw_text\", \"Url\",\"Text\"]\n",
    "    \"\"\"\n",
    "    df = getTweets(query, maxTweets)\n",
    "    df[\"Text\"] = df[\"Raw_text\"].map(replacePlaceholders)\n",
    "\n",
    "    return df\n",
    "\n",
    "\n",
    "def getTweets(query, maxTweets):\n",
    "    \"\"\"\n",
    "    Gather tweets from Twitter API. Query and maxTweets are used here.\n",
    "\n",
    "    Returns a DataFrame that is in reversed chronological order.\n",
    "    \"\"\"\n",
    "    tweets = []\n",
    "\n",
    "    for tweet in sntwitter.TwitterSearchScraper(query).get_items():\n",
    "        if len(tweets) >= maxTweets:\n",
    "            break\n",
    "        else:\n",
    "            tweets.append([tweet.date, tweet.user.username, tweet.content, tweet.url])\n",
    "\n",
    "    df = pd.DataFrame(tweets, columns=[\"Date\", \"Username\", \"Raw_text\", \"Url\"])\n",
    "    df.index.name = \"id\"\n",
    "\n",
    "    return df\n",
    "\n",
    "\n",
    "def replacePlaceholders(tweet):\n",
    "    \"\"\"\n",
    "    Replace username and URL in tweet text by @USER and HTTP\n",
    "    \"\"\"\n",
    "    new_tweet = []\n",
    "    for word in tweet.split(\" \"):\n",
    "        if word.startswith(\"@\") and len(word) > 1:\n",
    "            word = \"@USER\"\n",
    "        elif word.startswith(\"http\"):\n",
    "            word = \"HTTP\"\n",
    "        new_tweet.append(word)\n",
    "    return \" \".join(new_tweet)\n"
   ]
  },
  {
   "cell_type": "code",
   "execution_count": 12,
   "metadata": {},
   "outputs": [],
   "source": [
    "query = \"(hebe) lang:nl until:2022-10-21 since:2022-10-17\"\n",
    "maxTweets = 100000\n",
    "data = preprocess(query, maxTweets)\n",
    "data.to_csv(f\"test_data_{len(data.index)}.csv\")"
   ]
  },
  {
   "attachments": {},
   "cell_type": "markdown",
   "metadata": {},
   "source": [
    "## Run the model on the test data"
   ]
  },
  {
   "cell_type": "markdown",
   "metadata": {},
   "source": []
  }
 ],
 "metadata": {
  "kernelspec": {
   "display_name": "Python 3",
   "language": "python",
   "name": "python3"
  },
  "language_info": {
   "codemirror_mode": {
    "name": "ipython",
    "version": 3
   },
   "file_extension": ".py",
   "mimetype": "text/x-python",
   "name": "python",
   "nbconvert_exporter": "python",
   "pygments_lexer": "ipython3",
   "version": "3.8.10"
  },
  "orig_nbformat": 4,
  "vscode": {
   "interpreter": {
    "hash": "c5b5ee5c7d2c9fc3ffe929321c07a700290002734575a32b0fbeec65003f869d"
   }
  }
 },
 "nbformat": 4,
 "nbformat_minor": 2
}
